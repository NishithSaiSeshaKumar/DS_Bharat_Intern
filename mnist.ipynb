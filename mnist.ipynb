{
 "cells": [
  {
   "cell_type": "markdown",
   "metadata": {},
   "source": [
    "# **Task :** \n",
    "## **Number Recognition :**\n",
    "### Handwritten  digit  recognition  system  not  only  detectsscanned  images  of  handwritten  digits.Handwritten  digitrecognition using MNIST dataset is a major project made with the help of Neural Network. It basically detectsthe scanned images of handwritten digits. "
   ]
  },
  {
   "cell_type": "markdown",
   "metadata": {},
   "source": [
    "### Import necessary libraries"
   ]
  },
  {
   "cell_type": "code",
   "execution_count": 2,
   "metadata": {},
   "outputs": [],
   "source": [
    "import tensorflow as tf\n",
    "from tensorflow.keras import layers, models\n",
    "from tensorflow.keras.datasets import mnist\n",
    "from tensorflow.keras.utils import to_categorical\n"
   ]
  },
  {
   "cell_type": "markdown",
   "metadata": {},
   "source": [
    "### Load the data"
   ]
  },
  {
   "cell_type": "code",
   "execution_count": 3,
   "metadata": {},
   "outputs": [],
   "source": [
    "# Load the MNIST dataset\n",
    "(train_images, train_labels), (test_images, test_labels) = mnist.load_data()\n",
    "\n",
    "# Preprocess the data\n",
    "train_images = train_images.reshape((60000, 28, 28, 1)).astype(\"float32\") / 255\n",
    "test_images = test_images.reshape((10000, 28, 28, 1)).astype(\"float32\") / 255\n",
    "\n",
    "train_labels = to_categorical(train_labels)\n",
    "test_labels = to_categorical(test_labels)\n"
   ]
  },
  {
   "cell_type": "markdown",
   "metadata": {},
   "source": [
    "### Build the CNN model"
   ]
  },
  {
   "cell_type": "code",
   "execution_count": 4,
   "metadata": {},
   "outputs": [],
   "source": [
    "model = models.Sequential()\n",
    "model.add(layers.Conv2D(32, (3, 3), activation=\"relu\", input_shape=(28, 28, 1)))\n",
    "model.add(layers.MaxPooling2D((2, 2)))\n",
    "model.add(layers.Conv2D(64, (3, 3), activation=\"relu\"))\n",
    "model.add(layers.MaxPooling2D((2, 2)))\n",
    "model.add(layers.Conv2D(64, (3, 3), activation=\"relu\"))\n",
    "model.add(layers.Flatten())\n",
    "model.add(layers.Dense(64, activation=\"relu\"))\n",
    "model.add(layers.Dense(10, activation=\"softmax\"))\n"
   ]
  },
  {
   "cell_type": "markdown",
   "metadata": {},
   "source": [
    "### Compile the model"
   ]
  },
  {
   "cell_type": "code",
   "execution_count": 5,
   "metadata": {},
   "outputs": [],
   "source": [
    "model.compile(optimizer=\"adam\", loss=\"categorical_crossentropy\", metrics=[\"accuracy\"])\n"
   ]
  },
  {
   "cell_type": "markdown",
   "metadata": {},
   "source": [
    "### Train the model"
   ]
  },
  {
   "cell_type": "code",
   "execution_count": 6,
   "metadata": {},
   "outputs": [
    {
     "name": "stdout",
     "output_type": "stream",
     "text": [
      "Epoch 1/5\n",
      "750/750 [==============================] - 11s 6ms/step - loss: 0.2154 - accuracy: 0.9336 - val_loss: 0.0696 - val_accuracy: 0.9806\n",
      "Epoch 2/5\n",
      "750/750 [==============================] - 6s 8ms/step - loss: 0.0577 - accuracy: 0.9818 - val_loss: 0.0483 - val_accuracy: 0.9855\n",
      "Epoch 3/5\n",
      "750/750 [==============================] - 6s 8ms/step - loss: 0.0400 - accuracy: 0.9871 - val_loss: 0.0516 - val_accuracy: 0.9846\n",
      "Epoch 4/5\n",
      "750/750 [==============================] - 6s 8ms/step - loss: 0.0306 - accuracy: 0.9905 - val_loss: 0.0448 - val_accuracy: 0.9873\n",
      "Epoch 5/5\n",
      "750/750 [==============================] - 6s 8ms/step - loss: 0.0253 - accuracy: 0.9918 - val_loss: 0.0475 - val_accuracy: 0.9865\n"
     ]
    },
    {
     "data": {
      "text/plain": [
       "<keras.callbacks.History at 0x18fa4aeefd0>"
      ]
     },
     "execution_count": 6,
     "metadata": {},
     "output_type": "execute_result"
    }
   ],
   "source": [
    "model.fit(train_images, train_labels, epochs=5, batch_size=64, validation_split=0.2)\n"
   ]
  },
  {
   "cell_type": "markdown",
   "metadata": {},
   "source": [
    "### Evaluate the Model"
   ]
  },
  {
   "cell_type": "code",
   "execution_count": 7,
   "metadata": {},
   "outputs": [
    {
     "name": "stdout",
     "output_type": "stream",
     "text": [
      "313/313 [==============================] - 1s 5ms/step - loss: 0.0386 - accuracy: 0.9870\n",
      "Test accuracy: 0.9869999885559082\n"
     ]
    }
   ],
   "source": [
    "test_loss, test_acc = model.evaluate(test_images, test_labels)\n",
    "print(f\"Test accuracy: {test_acc}\")\n"
   ]
  },
  {
   "cell_type": "markdown",
   "metadata": {},
   "source": [
    "### Save the Model"
   ]
  },
  {
   "cell_type": "code",
   "execution_count": 8,
   "metadata": {},
   "outputs": [],
   "source": [
    "model.save(\"digit_recognition_model.h5\")\n"
   ]
  },
  {
   "cell_type": "markdown",
   "metadata": {},
   "source": [
    "## Creating a canvas for drawing & recognize"
   ]
  },
  {
   "cell_type": "code",
   "execution_count": 9,
   "metadata": {},
   "outputs": [],
   "source": [
    "import tkinter as tk\n",
    "from tkinter import Canvas, Button, Label\n",
    "from PIL import Image, ImageDraw\n",
    "import numpy as np\n",
    "from tensorflow.keras.models import load_model\n"
   ]
  },
  {
   "cell_type": "code",
   "execution_count": 10,
   "metadata": {},
   "outputs": [],
   "source": [
    "class DigitRecognizerApp:\n",
    "    def __init__(self, root):\n",
    "        self.root = root\n",
    "        self.root.title(\"Digit Recognizer\")\n",
    "\n",
    "        self.canvas = Canvas(root, width=280, height=280, bg=\"white\", cursor=\"cross\")\n",
    "        self.canvas.pack()\n",
    "\n",
    "        self.label_result = Label(root, text=\"Prediction: \", font=(\"Helvetica\", 16))\n",
    "        self.label_result.pack()\n",
    "\n",
    "        self.clear_button = Button(root, text=\"Clear\", command=self.clear_canvas)\n",
    "        self.clear_button.pack()\n",
    "\n",
    "        self.predict_button = Button(root, text=\"Predict\", command=self.predict_digit)\n",
    "        self.predict_button.pack()\n",
    "\n",
    "        # Load the trained model\n",
    "        self.model = load_model(\"digit_recognition_model.h5\")\n",
    "\n",
    "        # Initialize drawing\n",
    "        self.image = Image.new(\"L\", (280, 280), color=255)\n",
    "        self.draw = ImageDraw.Draw(self.image)\n",
    "        self.old_x = None\n",
    "        self.old_y = None\n",
    "\n",
    "        # Set up canvas events\n",
    "        self.canvas.bind(\"<B1-Motion>\", self.paint)\n",
    "        self.canvas.bind(\"<ButtonRelease-1>\", self.reset)\n",
    "\n",
    "    def paint(self, event):\n",
    "        x, y = event.x, event.y\n",
    "        if self.old_x and self.old_y:\n",
    "            pen_width = 20\n",
    "            self.canvas.create_line(self.old_x, self.old_y, x, y, width=pen_width, fill=\"black\", capstyle=tk.ROUND, smooth=tk.TRUE)\n",
    "            self.draw.line([self.old_x, self.old_y, x, y], fill=0, width=10)\n",
    "        self.old_x = x\n",
    "        self.old_y = y\n",
    "\n",
    "    def reset(self, event):\n",
    "        self.old_x = None\n",
    "        self.old_y = None\n",
    "\n",
    "    def clear_canvas(self):\n",
    "        self.canvas.delete(\"all\")\n",
    "        self.image = Image.new(\"L\", (280, 280), color=255)\n",
    "        self.draw = ImageDraw.Draw(self.image)\n",
    "        self.label_result.config(text=\"Prediction: \")\n",
    "\n",
    "    def predict_digit(self):\n",
    "        img = self.image.resize((28, 28), Image.BICUBIC)\n",
    "        img = np.array(img) / 255.0\n",
    "        img = img.reshape(1, 28, 28, 1)\n",
    "\n",
    "        prediction = self.model.predict(img)\n",
    "        predicted_digit = np.argmax(prediction)\n",
    "\n",
    "        self.label_result.config(text=f\"Prediction: {predicted_digit}\")"
   ]
  },
  {
   "cell_type": "code",
   "execution_count": 11,
   "metadata": {},
   "outputs": [],
   "source": [
    "root = tk.Tk()\n",
    "app = DigitRecognizerApp(root)\n",
    "root.mainloop()"
   ]
  },
  {
   "cell_type": "markdown",
   "metadata": {},
   "source": [
    "## Creating GUI for Scanned Images & Recognize"
   ]
  },
  {
   "cell_type": "code",
   "execution_count": 12,
   "metadata": {},
   "outputs": [],
   "source": [
    "import tkinter as tk\n",
    "from tkinter import Button, Label, filedialog\n",
    "from PIL import Image, ImageTk\n",
    "import numpy as np\n",
    "from tensorflow.keras.models import load_model\n",
    "\n",
    "class ScannedImagePredictorApp:\n",
    "    def __init__(self, root):\n",
    "        self.root = root\n",
    "        self.root.title(\"Digit Recognizer - Scanned Image Predictor\")\n",
    "\n",
    "        self.label_result = Label(root, text=\"Prediction: \", font=(\"Helvetica\", 16))\n",
    "        self.label_result.pack()\n",
    "\n",
    "        self.load_button = Button(root, text=\"Load Image\", command=self.load_image)\n",
    "        self.load_button.pack()\n",
    "\n",
    "        self.predict_button = Button(root, text=\"Predict\", command=self.predict_digit)\n",
    "        self.predict_button.pack()\n",
    "\n",
    "        self.image_label = Label(root)\n",
    "        self.image_label.pack()\n",
    "\n",
    "        # Load the trained model\n",
    "        self.model = load_model(\"digit_recognition_model.h5\")\n",
    "\n",
    "        # Initialize variables\n",
    "        self.image_path = None\n",
    "\n",
    "    def load_image(self):\n",
    "        file_path = filedialog.askopenfilename(filetypes=[(\"Image Files\", \"*.png;*.jpg;*.jpeg;*.gif;*.bmp\")])\n",
    "        if file_path:\n",
    "            self.image_path = file_path\n",
    "            image = Image.open(self.image_path)\n",
    "            image = image.resize((280, 280), Image.BICUBIC)\n",
    "            self.photo = ImageTk.PhotoImage(image)\n",
    "            self.image_label.config(image=self.photo)\n",
    "\n",
    "    def predict_digit(self):\n",
    "        if self.image_path:\n",
    "            img = Image.open(self.image_path).convert(\"L\")\n",
    "            img = img.resize((28, 28), Image.BICUBIC)\n",
    "            img_array = np.array(img) / 255.0\n",
    "            img_array = img_array.reshape(1, 28, 28, 1)\n",
    "\n",
    "            prediction = self.model.predict(img_array)\n",
    "            predicted_digit = np.argmax(prediction)\n",
    "\n",
    "            self.label_result.config(text=f\"Prediction: {predicted_digit}\")\n",
    "        else:\n",
    "            self.label_result.config(text=\"Please load an image first.\")\n",
    "\n",
    "if __name__ == \"__main__\":\n",
    "    root = tk.Tk()\n",
    "    app = ScannedImagePredictorApp(root)\n",
    "    root.mainloop()\n"
   ]
  },
  {
   "cell_type": "code",
   "execution_count": null,
   "metadata": {},
   "outputs": [],
   "source": []
  }
 ],
 "metadata": {
  "kernelspec": {
   "display_name": "base",
   "language": "python",
   "name": "python3"
  },
  "language_info": {
   "codemirror_mode": {
    "name": "ipython",
    "version": 3
   },
   "file_extension": ".py",
   "mimetype": "text/x-python",
   "name": "python",
   "nbconvert_exporter": "python",
   "pygments_lexer": "ipython3",
   "version": "3.8.18"
  }
 },
 "nbformat": 4,
 "nbformat_minor": 2
}
